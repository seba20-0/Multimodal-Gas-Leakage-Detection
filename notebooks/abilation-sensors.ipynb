{
 "cells": [
  {
   "cell_type": "code",
   "execution_count": 1,
   "metadata": {
    "execution": {
     "iopub.execute_input": "2025-05-03T20:48:00.064301Z",
     "iopub.status.busy": "2025-05-03T20:48:00.064020Z",
     "iopub.status.idle": "2025-05-03T20:48:04.612570Z",
     "shell.execute_reply": "2025-05-03T20:48:04.611639Z",
     "shell.execute_reply.started": "2025-05-03T20:48:00.064273Z"
    },
    "trusted": true
   },
   "outputs": [
    {
     "name": "stderr",
     "output_type": "stream",
     "text": [
      "2025-05-03 20:48:01.453871: E external/local_xla/xla/stream_executor/cuda/cuda_fft.cc:477] Unable to register cuFFT factory: Attempting to register factory for plugin cuFFT when one has already been registered\n",
      "WARNING: All log messages before absl::InitializeLog() is called are written to STDERR\n",
      "E0000 00:00:1746305281.479928   37589 cuda_dnn.cc:8310] Unable to register cuDNN factory: Attempting to register factory for plugin cuDNN when one has already been registered\n",
      "E0000 00:00:1746305281.487697   37589 cuda_blas.cc:1418] Unable to register cuBLAS factory: Attempting to register factory for plugin cuBLAS when one has already been registered\n"
     ]
    }
   ],
   "source": [
    "import numpy as np\n",
    "import pandas as pd\n",
    "import matplotlib.pyplot as plt\n",
    "from sklearn.metrics import accuracy_score\n",
    "from sklearn.model_selection import train_test_split\n",
    "from sklearn.preprocessing import StandardScaler\n",
    "import tensorflow as tf\n"
   ]
  },
  {
   "cell_type": "code",
   "execution_count": null,
   "metadata": {
    "execution": {
     "iopub.execute_input": "2025-05-03T20:48:04.614777Z",
     "iopub.status.busy": "2025-05-03T20:48:04.614115Z",
     "iopub.status.idle": "2025-05-03T20:48:04.702061Z",
     "shell.execute_reply": "2025-05-03T20:48:04.701094Z",
     "shell.execute_reply.started": "2025-05-03T20:48:04.614743Z"
    },
    "trusted": true
   },
   "outputs": [
    {
     "name": "stderr",
     "output_type": "stream",
     "text": [
      "2025-05-03 20:48:04.655831: E external/local_xla/xla/stream_executor/cuda/cuda_driver.cc:152] failed call to cuInit: INTERNAL: CUDA error: Failed call to cuInit: UNKNOWN ERROR (303)\n"
     ]
    }
   ],
   "source": [
    "def load_and_split_sensor_data(\n",
    "    csv_path: str,\n",
    "    test_size: float = 0.1,\n",
    "    val_size: float = 0.2,\n",
    "    random_state: int = 42\n",
    "):\n",
    "    \"\"\"\n",
    "    Load sensor CSV, preprocess (drop columns, encode labels, scale), and split into train/val/test.\n",
    "\n",
    "    Args:\n",
    "        csv_path: Path to the Gas Sensors Measurements CSV file.\n",
    "        test_size: Fraction of data reserved for final test set.\n",
    "        val_size: Fraction of remaining data reserved for validation.\n",
    "        random_state: Random seed for reproducibility.\n",
    "\n",
    "    Returns:\n",
    "        train_ds: tf.data.Dataset for training (features, labels).\n",
    "        val_ds: tf.data.Dataset for validation.\n",
    "        test_ds: tf.data.Dataset for testing.\n",
    "    \"\"\"\n",
    "    # 1) Load and clean\n",
    "    df = pd.read_csv(csv_path)\n",
    "    # drop unused columns\n",
    "    df = df.drop(columns=[\"Serial Number\", \"Corresponding Image Name\"], errors='ignore')\n",
    "    # encode labels\n",
    "    df['Gas'] = df['Gas'].astype('category').cat.codes\n",
    "\n",
    "    # 2) Extract features and labels\n",
    "    feature_cols = [c for c in df.columns if c != 'Gas']\n",
    "    X = df[feature_cols].values.astype('float32')\n",
    "    y = df['Gas'].values.astype('int32')\n",
    "\n",
    "    # 3) Scale features\n",
    "    scaler = StandardScaler()\n",
    "    X_scaled = scaler.fit_transform(X)\n",
    "\n",
    "    # 4) Split into train+val and test\n",
    "    X_temp, X_test, y_temp, y_test = train_test_split(\n",
    "        X_scaled, y, test_size=test_size, stratify=y, random_state=random_state\n",
    "    )\n",
    "    # Split train_temp into train and val\n",
    "    val_fraction = val_size / (1 - test_size)\n",
    "    X_train, X_val, y_train, y_val = train_test_split(\n",
    "        X_temp, y_temp, test_size=val_fraction,\n",
    "        stratify=y_temp, random_state=random_state\n",
    "    )\n",
    "\n",
    "    # 5) Build tf.data datasets\n",
    "    def make_ds(features, labels, batch_size=32, shuffle=False):\n",
    "        ds = tf.data.Dataset.from_tensor_slices((features, labels))\n",
    "        if shuffle:\n",
    "            ds = ds.shuffle(buffer_size=len(features), seed=random_state)\n",
    "        return ds.batch(batch_size).prefetch(tf.data.AUTOTUNE)\n",
    "\n",
    "    batch_size = 32\n",
    "    train_ds = make_ds(X_train, y_train, batch_size, shuffle=True)\n",
    "    val_ds   = make_ds(X_val,   y_val,   batch_size, shuffle=False)\n",
    "    test_ds  = make_ds(X_test,  y_test,  batch_size, shuffle=False)\n",
    "\n",
    "    return train_ds, val_ds, test_ds\n",
    "train_ds, val_ds, test_ds = load_and_split_sensor_data(\"../dataset/Gas Sensors Measurements/Gas_Sensors_Measurements.csv\")"
   ]
  },
  {
   "cell_type": "code",
   "execution_count": 3,
   "metadata": {
    "execution": {
     "iopub.execute_input": "2025-05-03T20:48:04.703240Z",
     "iopub.status.busy": "2025-05-03T20:48:04.702968Z",
     "iopub.status.idle": "2025-05-03T20:48:04.717837Z",
     "shell.execute_reply": "2025-05-03T20:48:04.716810Z",
     "shell.execute_reply.started": "2025-05-03T20:48:04.703219Z"
    },
    "trusted": true
   },
   "outputs": [],
   "source": [
    "class RandomSensorDropout(tf.keras.layers.Layer):\n",
    "    def __init__(self, rate=0.3, **kwargs):\n",
    "        \"\"\"\n",
    "        rate: probability to drop each sensor channel during training.\n",
    "        **kwargs: captures `trainable`, `dtype`, etc., for deserialization.\n",
    "        \"\"\"\n",
    "        super().__init__(**kwargs)\n",
    "        self.rate = rate\n",
    "\n",
    "    def call(self, inputs, training=False):\n",
    "        if training and self.rate > 0.0:\n",
    "            mask = tf.cast(tf.random.uniform(tf.shape(inputs)) > self.rate, inputs.dtype)\n",
    "            return inputs * mask\n",
    "        return inputs\n",
    "\n",
    "    def get_config(self):\n",
    "        config = super().get_config()\n",
    "        config.update({\"rate\": self.rate})\n",
    "        return config"
   ]
  },
  {
   "cell_type": "code",
   "execution_count": 4,
   "metadata": {
    "execution": {
     "iopub.execute_input": "2025-05-03T20:48:04.719781Z",
     "iopub.status.busy": "2025-05-03T20:48:04.719432Z",
     "iopub.status.idle": "2025-05-03T20:48:04.726101Z",
     "shell.execute_reply": "2025-05-03T20:48:04.725220Z",
     "shell.execute_reply.started": "2025-05-03T20:48:04.719757Z"
    },
    "trusted": true
   },
   "outputs": [],
   "source": [
    "def build_sensor_model(input_dim=7,\n",
    "                       sensor_dropout_rate=0.3,\n",
    "                       hidden_units=[64, 32],\n",
    "                       output_units=4,\n",
    "                       lr=1e-4):\n",
    "    inputs = tf.keras.Input(shape=(input_dim,), name=\"sensor_input\")\n",
    "\n",
    "    # 1) randomly drop entire channels of the raw input\n",
    "    x = RandomSensorDropout(sensor_dropout_rate)(inputs)\n",
    "\n",
    "    # 2) two hidden layers with standard Dropout\n",
    "    x = tf.keras.layers.Dense(hidden_units[0], activation=\"relu\")(x)\n",
    "    x = tf.keras.layers.Dropout(0.5)(x)\n",
    "    x = tf.keras.layers.Dense(hidden_units[1], activation=\"relu\")(x)\n",
    "    x = tf.keras.layers.Dropout(0.5)(x)\n",
    "\n",
    "    # 3) final softmax over classes\n",
    "    outputs = tf.keras.layers.Dense(output_units, activation=\"softmax\",\n",
    "                                    name=\"output\")(x)\n",
    "    model = tf.keras.Model(inputs, outputs, name=\"sensor_only_dropout\")\n",
    "    model.compile(\n",
    "        optimizer=tf.keras.optimizers.Adam(),\n",
    "        loss=\"sparse_categorical_crossentropy\",\n",
    "        metrics=[\"accuracy\"]\n",
    "    )\n",
    "    return model"
   ]
  },
  {
   "cell_type": "code",
   "execution_count": 5,
   "metadata": {
    "execution": {
     "iopub.execute_input": "2025-05-03T20:48:04.727361Z",
     "iopub.status.busy": "2025-05-03T20:48:04.727052Z",
     "iopub.status.idle": "2025-05-03T20:53:26.591605Z",
     "shell.execute_reply": "2025-05-03T20:53:26.590789Z",
     "shell.execute_reply.started": "2025-05-03T20:48:04.727340Z"
    },
    "trusted": true
   },
   "outputs": [
    {
     "name": "stdout",
     "output_type": "stream",
     "text": [
      "Dropout=0.0 → MC Test Accuracy = 0.9594\n",
      "Dropout=0.1 → MC Test Accuracy = 0.9500\n",
      "Dropout=0.2 → MC Test Accuracy = 0.9406\n",
      "Dropout=0.3 → MC Test Accuracy = 0.9328\n",
      "Dropout=0.4 → MC Test Accuracy = 0.9281\n",
      "Dropout=0.5 → MC Test Accuracy = 0.8844\n",
      "Dropout=0.6 → MC Test Accuracy = 0.8719\n",
      "Dropout=0.7 → MC Test Accuracy = 0.8313\n",
      "Dropout=0.8 → MC Test Accuracy = 0.8047\n",
      "Dropout=0.9 → MC Test Accuracy = 0.7828\n"
     ]
    },
    {
     "data": {
      "image/png": "[encoded data removed]",
      "text/plain": [
       "<Figure size 800x500 with 1 Axes>"
      ]
     },
     "metadata": {},
     "output_type": "display_data"
    }
   ],
   "source": [
    "import matplotlib.pyplot as plt\n",
    "\n",
    "def predict_mc(model, dataset, T=50):\n",
    "    all_preds = []\n",
    "    all_labels = []\n",
    "    for sens_batch, lbl_batch in dataset:\n",
    "        preds_t = [model(sens_batch, training=True).numpy() for _ in range(T)]\n",
    "        preds_t = np.stack(preds_t, axis=0)  # (T, batch, classes)\n",
    "        mean_preds = preds_t.mean(axis=0)    # (batch, classes)\n",
    "        all_preds.append(mean_preds)\n",
    "        all_labels.append(lbl_batch.numpy())\n",
    "    all_preds = np.concatenate(all_preds, axis=0)\n",
    "    all_labels = np.concatenate(all_labels, axis=0)\n",
    "    y_pred = np.argmax(all_preds, axis=1)\n",
    "    return np.mean(y_pred == all_labels)\n",
    "\n",
    "dropout_rates = [0.0, 0.1, 0.2, 0.3, 0.4, 0.5 , 0.6 , 0.7 , 0.8 , 0.9]\n",
    "val_accuracies = []\n",
    "\n",
    "for rate in dropout_rates:\n",
    "    model = build_sensor_model(input_dim=7, sensor_dropout_rate=rate)\n",
    "    ckpt_path = f\"best_sensor_dropout_{rate:.1f}.keras\"\n",
    "    checkpoint_cb = tf.keras.callbacks.ModelCheckpoint(\n",
    "        ckpt_path,\n",
    "        monitor=\"val_accuracy\",\n",
    "        mode=\"max\",\n",
    "        save_best_only=True,\n",
    "        verbose=0\n",
    "    )\n",
    "    model.fit(train_ds, validation_data=val_ds, epochs=100, verbose=0 , callbacks=[checkpoint_cb])\n",
    "    best_model = tf.keras.models.load_model(\n",
    "        ckpt_path,\n",
    "        custom_objects={\"RandomSensorDropout\": RandomSensorDropout}\n",
    "    )\n",
    "    acc = predict_mc(best_model, test_ds, T=50)\n",
    "    val_accuracies.append(acc)\n",
    "    print(f\"Dropout={rate:.1f} → MC Test Accuracy = {acc:.4f}\")\n",
    "\n",
    "# Plot dropout rate vs MC test accuracy\n",
    "plt.figure(figsize=(8, 5))\n",
    "plt.plot(dropout_rates, val_accuracies, marker='o')\n",
    "plt.title(\"Sensor Dropout Rate vs. MC Test Accuracy\")\n",
    "plt.xlabel(\"Sensor Dropout Rate\")\n",
    "plt.ylabel(\"MC Test Accuracy\")\n",
    "plt.xticks(dropout_rates)\n",
    "plt.grid(True)\n",
    "plt.show()"
   ]
  },
  {
   "cell_type": "code",
   "execution_count": null,
   "metadata": {
    "trusted": true
   },
   "outputs": [],
   "source": []
  }
 ],
 "metadata": {
  "kaggle": {
   "accelerator": "none",
   "dataSources": [
    {
     "datasetId": 7300692,
     "sourceId": 11635786,
     "sourceType": "datasetVersion"
    }
   ],
   "dockerImageVersionId": 31012,
   "isGpuEnabled": false,
   "isInternetEnabled": true,
   "language": "python",
   "sourceType": "notebook"
  },
  "kernelspec": {
   "display_name": "Python 3",
   "language": "python",
   "name": "python3"
  },
  "language_info": {
   "codemirror_mode": {
    "name": "ipython",
    "version": 3
   },
   "file_extension": ".py",
   "mimetype": "text/x-python",
   "name": "python",
   "nbconvert_exporter": "python",
   "pygments_lexer": "ipython3",
   "version": "3.11.11"
  }
 },
 "nbformat": 4,
 "nbformat_minor": 4
}
